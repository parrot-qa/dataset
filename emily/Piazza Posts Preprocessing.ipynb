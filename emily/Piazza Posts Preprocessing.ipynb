{
 "cells": [
  {
   "cell_type": "code",
   "execution_count": 1,
   "id": "048359e7",
   "metadata": {},
   "outputs": [],
   "source": [
    "import pandas as pd\n",
    "import numpy as np\n",
    "import json"
   ]
  },
  {
   "cell_type": "code",
   "execution_count": 2,
   "id": "cbe3748d",
   "metadata": {},
   "outputs": [],
   "source": [
    "f1 = open('piazza_raw/c100_raw_piazza')\n",
    "c100_raw = json.load(f1)\n",
    "f1.close()\n",
    "\n",
    "f2 = open('piazza_raw/cs61a_raw_piazza')\n",
    "cs61a_raw = json.load(f2)\n",
    "f2.close()\n",
    "\n",
    "f3 = open('piazza_raw/cs61b_raw_piazza')\n",
    "cs61b_raw = json.load(f3)\n",
    "f3.close()"
   ]
  },
  {
   "cell_type": "markdown",
   "id": "a6feeedb",
   "metadata": {},
   "source": [
    "### Take Out All Notes (non-question posts)"
   ]
  },
  {
   "cell_type": "code",
   "execution_count": 3,
   "id": "bf690a5c",
   "metadata": {},
   "outputs": [],
   "source": [
    "def extract_question_posts(post_list):\n",
    "    questions = []\n",
    "    for post in post_list:\n",
    "        if post.get(\"type\") == \"question\":\n",
    "            questions.append(post)\n",
    "    return questions\n",
    "\n",
    "def extract_answers(post_list):\n",
    "    answers = []\n",
    "    "
   ]
  },
  {
   "cell_type": "code",
   "execution_count": 5,
   "id": "55277644",
   "metadata": {},
   "outputs": [],
   "source": [
    "c100_questions = extract_question_posts(c100_raw)\n",
    "cs61a_questions = extract_question_posts(cs61a_raw)\n",
    "cs61b_questions = extract_question_posts(cs61b_raw)"
   ]
  },
  {
   "cell_type": "markdown",
   "id": "2af18dd8",
   "metadata": {},
   "source": [
    "Sometimes the questions have important information within the subject, so keep that key."
   ]
  },
  {
   "cell_type": "code",
   "execution_count": 6,
   "id": "83f45238",
   "metadata": {},
   "outputs": [
    {
     "data": {
      "text/plain": [
       "[{'anon': 'no',\n",
       "  'uid': 'j6ij3qk58yu2kd',\n",
       "  'subject': 'Proj3 Gradescope Score',\n",
       "  'created': '2019-05-21T17:10:36Z',\n",
       "  'content': '<p>I don&#39;t think that&#39;s been release. When will we see that score as well?</p>'}]"
      ]
     },
     "execution_count": 6,
     "metadata": {},
     "output_type": "execute_result"
    }
   ],
   "source": [
    "# For Example - the context of the question here is included within the subject\n",
    "c100_questions[0].get(\"history\")"
   ]
  },
  {
   "cell_type": "markdown",
   "id": "eb821f01",
   "metadata": {},
   "source": [
    "### Answers - Want to Extract Answers from Each Post"
   ]
  },
  {
   "cell_type": "code",
   "execution_count": 7,
   "id": "4ed633fe",
   "metadata": {},
   "outputs": [
    {
     "data": {
      "text/plain": [
       "[{'folders': [],\n",
       "  'data': {'embed_links': []},\n",
       "  'children': [],\n",
       "  'created': '2019-05-23T19:33:45Z',\n",
       "  'bucket_order': 3,\n",
       "  'tag_endorse': [{'role': 'student',\n",
       "    'name': 'Kiran Kaur Brar',\n",
       "    'endorser': {},\n",
       "    'admin': False,\n",
       "    'photo': None,\n",
       "    'id': 'idrin5by7cepg',\n",
       "    'photo_url': None,\n",
       "    'published': True,\n",
       "    'us': False,\n",
       "    'facebook_id': None}],\n",
       "  'bucket_name': 'Today',\n",
       "  'id': 'jw1210jzp1p588',\n",
       "  'history': [{'anon': 'no',\n",
       "    'uid': 'is6p9qynt5gz9',\n",
       "    'subject': '',\n",
       "    'created': '2019-05-23T19:33:45Z',\n",
       "    'content': 'I accidentally overwrote some scores on Gradescope for the written part of project 2. However, this was after I moved all scores to okpy. I see your score for the written part in okpy, so you have nothing to worry about.\\xa0'}],\n",
       "  'type': 'i_answer',\n",
       "  'tag_endorse_arr': ['idrin5by7cepg'],\n",
       "  'config': {},\n",
       "  'is_tag_endorse': False}]"
      ]
     },
     "execution_count": 7,
     "metadata": {},
     "output_type": "execute_result"
    }
   ],
   "source": [
    "(c100_questions[2].get(\"children\"))"
   ]
  },
  {
   "cell_type": "markdown",
   "id": "5f79705a",
   "metadata": {},
   "source": [
    "## NOTE: I think every question has been answered, unusual for piazza"
   ]
  },
  {
   "cell_type": "code",
   "execution_count": 8,
   "id": "87383c7b",
   "metadata": {},
   "outputs": [],
   "source": [
    "# Checking if there is ever more than one instructor answer per post\n",
    "c100_answered = []\n",
    "c100_student_answered = []\n",
    "for post in c100_questions:\n",
    "    children_posts = post.get(\"children\")\n",
    "    num_instructor_answer = 0\n",
    "    for child in children_posts:\n",
    "        if child.get(\"type\") == \"i_answer\":\n",
    "            num_instructor_answer += 1\n",
    "    # want all answered questions\n",
    "    if (\"unanswered\" not in post.get(\"tags\")):\n",
    "        c100_answered.append(post)\n",
    "    if (\"unanswered\" not in post.get(\"tags\")) & (num_instructor_answer == 0):\n",
    "        c100_student_answered.append(post)\n",
    "    if(num_instructor_answer > 1):\n",
    "        print(\"ERROR - more than one instructor answer\")"
   ]
  },
  {
   "cell_type": "code",
   "execution_count": 22,
   "id": "d116656d",
   "metadata": {},
   "outputs": [],
   "source": [
    "# Checking if there is ever more than one instructor answer per post\n",
    "cs61a_answered = []\n",
    "cs61a_student_answered = []\n",
    "for post in cs61a_questions:\n",
    "    children_posts = post.get(\"children\")\n",
    "    num_instructor_answer = 0\n",
    "    for child in children_posts:\n",
    "        if child.get(\"type\") == \"i_answer\":\n",
    "            num_instructor_answer += 1\n",
    "    # want all answered questions\n",
    "    if (\"unanswered\" not in post.get(\"tags\")):\n",
    "        cs61a_answered.append(post)\n",
    "    if (\"unanswered\" not in post.get(\"tags\")) & (num_instructor_answer == 0):\n",
    "        cs61a_student_answered.append(post)\n",
    "    if(num_instructor_answer > 1):\n",
    "        print(\"ERROR - more than one instructor answer\")"
   ]
  },
  {
   "cell_type": "code",
   "execution_count": 23,
   "id": "3465c252",
   "metadata": {},
   "outputs": [],
   "source": [
    "# Checking if there is ever more than one instructor answer per post\n",
    "cs61b_answered = []\n",
    "cs61b_student_answered = []\n",
    "for post in cs61b_questions:\n",
    "    children_posts = post.get(\"children\")\n",
    "    num_instructor_answer = 0\n",
    "    for child in children_posts:\n",
    "        if child.get(\"type\") == \"i_answer\":\n",
    "            num_instructor_answer += 1\n",
    "    # want all answered questions\n",
    "    if (\"unanswered\" not in post.get(\"tags\")):\n",
    "        cs61b_answered.append(post)\n",
    "    if (\"unanswered\" not in post.get(\"tags\")) & (num_instructor_answer == 0):\n",
    "        cs61b_student_answered.append(post)\n",
    "    if(num_instructor_answer > 1):\n",
    "        print(\"ERROR - more than one instructor answer\")"
   ]
  },
  {
   "cell_type": "markdown",
   "id": "00493974",
   "metadata": {},
   "source": [
    "We want: id, subject, content, answer_type, answer (what about when there is a student answer and prof answer?)\n",
    "\n",
    "How about: id, subject, content, student_answer, instructor_answer"
   ]
  },
  {
   "cell_type": "code",
   "execution_count": 9,
   "id": "146e7d25",
   "metadata": {},
   "outputs": [],
   "source": [
    "def get_answers(post):\n",
    "    instructor_answer = \"None\"\n",
    "    student_answer = \"None\"\n",
    "    children_posts = post.get(\"children\")\n",
    "    for child in children_posts:\n",
    "        if child.get(\"type\") == \"i_answer\":\n",
    "            instructor_answer = child.get(\"history\")[-1].get(\"content\")\n",
    "        if child.get(\"type\") == \"s_answer\":\n",
    "            student_answer = child.get(\"history\")[-1].get(\"content\")\n",
    "    return instructor_answer, student_answer\n",
    "\n",
    "def get_question_content(post):\n",
    "    return post.get(\"history\")[-1].get(\"content\")\n",
    "\n",
    "def get_subject(post):\n",
    "    return post.get(\"history\")[-1].get(\"subject\")"
   ]
  },
  {
   "cell_type": "code",
   "execution_count": 24,
   "id": "b93f7f7e",
   "metadata": {},
   "outputs": [],
   "source": [
    "formatted_QA_c100 = []\n",
    "for post in c100_answered:\n",
    "    i_answer, s_answer = get_answers(post)\n",
    "    post_dict = {\"course\": \"DS100\",\n",
    "                 \"id\": post.get(\"id\"), \n",
    "                 \"subject\": get_subject(post),\n",
    "                 \"content\": get_question_content(post),\n",
    "                 \"student_answer\": s_answer,\n",
    "                 \"instructor_answer\": i_answer,\n",
    "                 \"folders\": post.get(\"folders\")}\n",
    "    formatted_QA_c100.append(post_dict)"
   ]
  },
  {
   "cell_type": "code",
   "execution_count": 25,
   "id": "4354447a",
   "metadata": {},
   "outputs": [],
   "source": [
    "formatted_QA_cs61a = []\n",
    "for post in cs61a_answered:\n",
    "    i_answer, s_answer = get_answers(post)\n",
    "    post_dict = {\"course\": \"CS61A\",\n",
    "                 \"id\": post.get(\"id\"), \n",
    "                 \"subject\": get_subject(post),\n",
    "                 \"content\": get_question_content(post),\n",
    "                 \"student_answer\": s_answer,\n",
    "                 \"instructor_answer\": i_answer,\n",
    "                 \"folders\": post.get(\"folders\")}\n",
    "    formatted_QA_cs61a.append(post_dict)"
   ]
  },
  {
   "cell_type": "code",
   "execution_count": 26,
   "id": "2c7c5418",
   "metadata": {},
   "outputs": [],
   "source": [
    "formatted_QA_cs61b = []\n",
    "for post in cs61b_answered:\n",
    "    i_answer, s_answer = get_answers(post)\n",
    "    post_dict = {\"course\": \"DS100\",\n",
    "                 \"id\": post.get(\"id\"), \n",
    "                 \"subject\": get_subject(post),\n",
    "                 \"content\": get_question_content(post),\n",
    "                 \"student_answer\": s_answer,\n",
    "                 \"instructor_answer\": i_answer,\n",
    "                 \"folders\": post.get(\"folders\")}\n",
    "    formatted_QA_cs61b.append(post_dict)"
   ]
  },
  {
   "cell_type": "code",
   "execution_count": 30,
   "id": "569e1b87",
   "metadata": {},
   "outputs": [],
   "source": [
    "with open('c100.json', 'w') as fout:\n",
    "    json.dump(formatted_QA_c100 , fout)"
   ]
  },
  {
   "cell_type": "code",
   "execution_count": 31,
   "id": "74681867",
   "metadata": {},
   "outputs": [],
   "source": [
    "with open('cs61a.json', 'w') as fout:\n",
    "    json.dump(formatted_QA_cs61a , fout)"
   ]
  },
  {
   "cell_type": "code",
   "execution_count": 32,
   "id": "9007fd1d",
   "metadata": {},
   "outputs": [],
   "source": [
    "with open('cs61b.json', 'w') as fout:\n",
    "    json.dump(formatted_QA_cs61b , fout)"
   ]
  },
  {
   "cell_type": "code",
   "execution_count": null,
   "id": "df50ea89",
   "metadata": {},
   "outputs": [],
   "source": []
  }
 ],
 "metadata": {
  "kernelspec": {
   "display_name": "Python 3 (ipykernel)",
   "language": "python",
   "name": "python3"
  },
  "language_info": {
   "codemirror_mode": {
    "name": "ipython",
    "version": 3
   },
   "file_extension": ".py",
   "mimetype": "text/x-python",
   "name": "python",
   "nbconvert_exporter": "python",
   "pygments_lexer": "ipython3",
   "version": "3.9.7"
  }
 },
 "nbformat": 4,
 "nbformat_minor": 5
}
